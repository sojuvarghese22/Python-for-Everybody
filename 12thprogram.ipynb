{
  "nbformat": 4,
  "nbformat_minor": 0,
  "metadata": {
    "colab": {
      "name": "12thprogram.ipynb",
      "provenance": [],
      "mount_file_id": "1NCHFpWZBUmzVYl_Ilkv_VOIhLmOqjTZ5",
      "authorship_tag": "ABX9TyORp2yTNT5+L8WaBMv+Feup",
      "include_colab_link": true
    },
    "kernelspec": {
      "name": "python3",
      "display_name": "Python 3"
    },
    "language_info": {
      "name": "python"
    }
  },
  "cells": [
    {
      "cell_type": "markdown",
      "metadata": {
        "id": "view-in-github",
        "colab_type": "text"
      },
      "source": [
        "<a href=\"https://colab.research.google.com/github/sojuvarghese22/Python-for-Everybody/blob/main/12thprogram.ipynb\" target=\"_parent\"><img src=\"https://colab.research.google.com/assets/colab-badge.svg\" alt=\"Open In Colab\"/></a>"
      ]
    },
    {
      "cell_type": "code",
      "execution_count": 3,
      "metadata": {
        "colab": {
          "base_uri": "https://localhost:8080/"
        },
        "id": "wHN1CJseH1MS",
        "outputId": "8eaaead7-4dd7-44aa-8381-b8d217278197"
      },
      "outputs": [
        {
          "output_type": "stream",
          "name": "stdout",
          "text": [
            "maximum frequency of word is :  2\n"
          ]
        }
      ],
      "source": [
        "fhand = open('/content/drive/MyDrive/study pupose/prac.txt')\n",
        "word = \"\"\n",
        "max_occurrence = 0\n",
        "di = dict()\n",
        "for line in fhand:\n",
        "  line = line.rstrip()\n",
        "  new = line.split()\n",
        "  for word in new:\n",
        "    di[word] = di.get(word,0)+1\n",
        "for wd,number in di.items():\n",
        "  if number>max_occurrence :\n",
        "    max_occurrence  = number\n",
        "    word = wd\n",
        "print(\"maximum frequency of word is : \",max_occurrence )\n"
      ]
    },
    {
      "cell_type": "code",
      "source": [
        ""
      ],
      "metadata": {
        "id": "HLQYthZ8ITIQ"
      },
      "execution_count": null,
      "outputs": []
    }
  ]
}