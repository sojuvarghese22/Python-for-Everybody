{
  "nbformat": 4,
  "nbformat_minor": 0,
  "metadata": {
    "colab": {
      "name": "8thprogram.ipynb",
      "provenance": [],
      "authorship_tag": "ABX9TyPicm+LpCzzr6C+QXWA1QIH",
      "include_colab_link": true
    },
    "kernelspec": {
      "name": "python3",
      "display_name": "Python 3"
    },
    "language_info": {
      "name": "python"
    }
  },
  "cells": [
    {
      "cell_type": "markdown",
      "metadata": {
        "id": "view-in-github",
        "colab_type": "text"
      },
      "source": [
        "<a href=\"https://colab.research.google.com/github/sojuvarghese22/Python-for-Everybody/blob/main/8thprogram.ipynb\" target=\"_parent\"><img src=\"https://colab.research.google.com/assets/colab-badge.svg\" alt=\"Open In Colab\"/></a>"
      ]
    },
    {
      "cell_type": "code",
      "execution_count": 4,
      "metadata": {
        "colab": {
          "base_uri": "https://localhost:8080/"
        },
        "id": "lR2m73ZmB9fJ",
        "outputId": "8fffe7e8-787c-4d7f-ff97-bfc8f69c4c7f"
      },
      "outputs": [
        {
          "output_type": "stream",
          "name": "stdout",
          "text": [
            "{'csev': 2, 'cwen': 2, 'rqian': 1}\n"
          ]
        }
      ],
      "source": [
        "counts = dict()\n",
        "names = ['csev', 'cwen', 'csev', 'rqian','cwen']\n",
        "for name in names:\n",
        "  counts[name] = counts.get(name, 0)+1\n",
        "print(counts)"
      ]
    }
  ]
}