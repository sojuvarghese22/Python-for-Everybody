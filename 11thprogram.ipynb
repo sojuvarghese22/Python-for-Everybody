{
  "nbformat": 4,
  "nbformat_minor": 0,
  "metadata": {
    "colab": {
      "name": "11thprogram.ipynb",
      "provenance": [],
      "mount_file_id": "1IIQm04Psq1vZRM4i1WtX9f5qorWj3IXI",
      "authorship_tag": "ABX9TyO/XX0yzBaXhx95+cJD2O1J",
      "include_colab_link": true
    },
    "kernelspec": {
      "name": "python3",
      "display_name": "Python 3"
    },
    "language_info": {
      "name": "python"
    }
  },
  "cells": [
    {
      "cell_type": "markdown",
      "metadata": {
        "id": "view-in-github",
        "colab_type": "text"
      },
      "source": [
        "<a href=\"https://colab.research.google.com/github/sojuvarghese22/Python-for-Everybody/blob/main/11thprogram.ipynb\" target=\"_parent\"><img src=\"https://colab.research.google.com/assets/colab-badge.svg\" alt=\"Open In Colab\"/></a>"
      ]
    },
    {
      "cell_type": "code",
      "execution_count": 4,
      "metadata": {
        "colab": {
          "base_uri": "https://localhost:8080/"
        },
        "id": "3Zpc_6T7Gaet",
        "outputId": "85092db3-926b-4154-9607-af3664c3ff63"
      },
      "outputs": [
        {
          "output_type": "stream",
          "name": "stdout",
          "text": [
            "key :  my , value :  2\n",
            "key :  name , value :  1\n",
            "key :  is , value :  2\n",
            "key :  soju , value :  1\n",
            "key :  hhhjhhjh , value :  1\n",
            "key :  h , value :  1\n",
            "key :  am , value :  1\n",
            "key :  nagpur , value :  1\n"
          ]
        }
      ],
      "source": [
        "fhand = open('/content/drive/MyDrive/study pupose/prac.txt')\n",
        "di = dict()\n",
        "for line in fhand:\n",
        "  line = line.rstrip()\n",
        "  new = line.split()\n",
        "  for word in new:\n",
        "    di[word] = di.get(word,0)+1\n",
        "for i,j in di.items():\n",
        "  print(\"key : \",i,\", value : \",j)"
      ]
    }
  ]
}