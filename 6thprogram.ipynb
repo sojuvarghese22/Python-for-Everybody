{
  "nbformat": 4,
  "nbformat_minor": 0,
  "metadata": {
    "colab": {
      "name": "6thprogram.ipynb",
      "provenance": [],
      "mount_file_id": "1PhY98N5VLtHF4UqcXbAbLJ2EjGqWEddA",
      "authorship_tag": "ABX9TyNsK0dbtvM+I1ruK+2Sb8PB",
      "include_colab_link": true
    },
    "kernelspec": {
      "name": "python3",
      "display_name": "Python 3"
    },
    "language_info": {
      "name": "python"
    }
  },
  "cells": [
    {
      "cell_type": "markdown",
      "metadata": {
        "id": "view-in-github",
        "colab_type": "text"
      },
      "source": [
        "<a href=\"https://colab.research.google.com/github/sojuvarghese22/Python-for-Everybody/blob/main/6thprogram.ipynb\" target=\"_parent\"><img src=\"https://colab.research.google.com/assets/colab-badge.svg\" alt=\"Open In Colab\"/></a>"
      ]
    },
    {
      "cell_type": "code",
      "execution_count": 1,
      "metadata": {
        "colab": {
          "base_uri": "https://localhost:8080/"
        },
        "id": "G80RbcId_b56",
        "outputId": "f08ae02e-df63-4820-fdf0-4af6ce608393"
      },
      "outputs": [
        {
          "output_type": "stream",
          "name": "stdout",
          "text": [
            "enter the filename/content/drive/MyDrive/study pupose/ne.txt\n",
            "If you're looking for random paragraphs, you've come to the right place. When a random word or a random sentence isn't quite enough, the next logical step is to find a random paragraph. We created the Random Paragraph Generator with you in mind. The process is quite simple. Choose the number of random paragraphs you'd like to see and click the button. Your chosen number of paragraphs will instantly appear.\n",
            "\n",
            "While it may not be obvious to everyone, there are a number of reasons creating random paragraphs can be useful. A few examples of how some people use this generator are listed in the following paragraphs.\n",
            "\n",
            "Creative Writing\n",
            "Generating random paragraphs can be an excellent way for writers to get their creative flow going at the beginning of the day. The writer has no idea what topic the random paragraph will be about when it appears. This forces the writer to use creativity to complete one of three common writing challenges. The writer can use the paragraph as the first one of a short story and build upon it. A second option is to use the random paragraph somewhere in a short story they create. The third option is to have the random paragraph be the ending paragraph in a short story. No matter which of these challenges is undertaken, the writer is forced to use creativity to incorporate the paragraph into their writing.\n",
            "\n",
            "Tackle Writers' Block\n",
            "A random paragraph can also be an excellent way for a writer to tackle writers' block. Writing block can often happen due to being stuck with a current project that the writer is trying to complete. By inserting a co\n"
          ]
        }
      ],
      "source": [
        "userinput = input(\"enter the filename\")\n",
        "try:\n",
        "  fhand = open(userinput) \n",
        "except:\n",
        "  print(\"No such file \")\n",
        "  quit()\n",
        "data = fhand.read()\n",
        "print(data)"
      ]
    }
  ]
}