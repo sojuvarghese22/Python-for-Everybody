{
  "nbformat": 4,
  "nbformat_minor": 0,
  "metadata": {
    "colab": {
      "name": "4thprogram.ipynb",
      "provenance": [],
      "mount_file_id": "1BMpN9-xlKafv4zlgdKKHvdGSz1sJDFcb",
      "authorship_tag": "ABX9TyMuRnkePl1DxHYHk4FiprSm",
      "include_colab_link": true
    },
    "kernelspec": {
      "name": "python3",
      "display_name": "Python 3"
    },
    "language_info": {
      "name": "python"
    }
  },
  "cells": [
    {
      "cell_type": "markdown",
      "metadata": {
        "id": "view-in-github",
        "colab_type": "text"
      },
      "source": [
        "<a href=\"https://colab.research.google.com/github/sojuvarghese22/Python-for-Everybody/blob/main/4thprogram.ipynb\" target=\"_parent\"><img src=\"https://colab.research.google.com/assets/colab-badge.svg\" alt=\"Open In Colab\"/></a>"
      ]
    },
    {
      "cell_type": "code",
      "execution_count": 1,
      "metadata": {
        "colab": {
          "base_uri": "https://localhost:8080/"
        },
        "id": "Vlbfc-vq9niX",
        "outputId": "546132f3-dd3a-46dd-9ecc-6b222a551e44"
      },
      "outputs": [
        {
          "output_type": "stream",
          "name": "stdout",
          "text": [
            "Total line :  9\n"
          ]
        }
      ],
      "source": [
        "fhand = open('/content/drive/MyDrive/study pupose/ne.txt')\n",
        "count = 0\n",
        "for line in fhand:\n",
        "  count = count+1\n",
        "print(\"Total line : \", count)"
      ]
    }
  ]
}