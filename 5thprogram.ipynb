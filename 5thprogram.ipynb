{
  "nbformat": 4,
  "nbformat_minor": 0,
  "metadata": {
    "colab": {
      "name": "5thprogram.ipynb",
      "provenance": [],
      "collapsed_sections": [],
      "mount_file_id": "1Z8pm45BDMqMohEhMjiMQ1OVj39sf36HW",
      "authorship_tag": "ABX9TyOQjcj/XpewD43VUAL4hkQm",
      "include_colab_link": true
    },
    "kernelspec": {
      "name": "python3",
      "display_name": "Python 3"
    },
    "language_info": {
      "name": "python"
    }
  },
  "cells": [
    {
      "cell_type": "markdown",
      "metadata": {
        "id": "view-in-github",
        "colab_type": "text"
      },
      "source": [
        "<a href=\"https://colab.research.google.com/github/sojuvarghese22/Python-for-Everybody/blob/main/5thprogram.ipynb\" target=\"_parent\"><img src=\"https://colab.research.google.com/assets/colab-badge.svg\" alt=\"Open In Colab\"/></a>"
      ]
    },
    {
      "cell_type": "code",
      "execution_count": 2,
      "metadata": {
        "colab": {
          "base_uri": "https://localhost:8080/"
        },
        "id": "3XLofMYz-bTY",
        "outputId": "beedd530-22d6-4f28-9906-4375380d3fad"
      },
      "outputs": [
        {
          "output_type": "stream",
          "name": "stdout",
          "text": [
            "While it may not be obvious to everyone, there are a number of reasons creating random paragraphs can be useful. A few examples of how some people use this generator are listed in the following paragraphs.\n",
            "\n"
          ]
        }
      ],
      "source": [
        "fhand = open('/content/drive/MyDrive/study pupose/ne.txt')\n",
        "for line in fhand:\n",
        "  if line.startswith('While'):\n",
        "    print(line)\n"
      ]
    }
  ]
}