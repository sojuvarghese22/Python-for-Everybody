{
  "nbformat": 4,
  "nbformat_minor": 0,
  "metadata": {
    "colab": {
      "name": "7thprogram.ipynb",
      "provenance": [],
      "collapsed_sections": [],
      "mount_file_id": "1CYbL5JxTf8DzPcgK5xIco4FwqTq5vfWj",
      "authorship_tag": "ABX9TyMYT8mTVDXPK44fFbQSU4sy",
      "include_colab_link": true
    },
    "kernelspec": {
      "name": "python3",
      "display_name": "Python 3"
    },
    "language_info": {
      "name": "python"
    }
  },
  "cells": [
    {
      "cell_type": "markdown",
      "metadata": {
        "id": "view-in-github",
        "colab_type": "text"
      },
      "source": [
        "<a href=\"https://colab.research.google.com/github/sojuvarghese22/Python-for-Everybody/blob/main/7thprogram.ipynb\" target=\"_parent\"><img src=\"https://colab.research.google.com/assets/colab-badge.svg\" alt=\"Open In Colab\"/></a>"
      ]
    },
    {
      "cell_type": "code",
      "source": [
        "fhand = open('/content/drive/MyDrive/study pupose/prac.txt')\n",
        "for line in fhand:\n",
        "  line = line.rstrip()\n",
        "  new = line.split()\n",
        "  if len(new)<3:\n",
        "    continue\n",
        "  if new[0]!='my':\n",
        "    continue\n",
        "  print(new[2])"
      ],
      "metadata": {
        "colab": {
          "base_uri": "https://localhost:8080/"
        },
        "id": "mNn874hd_lqV",
        "outputId": "170146c0-5091-43d9-e570-30921ad6aacb"
      },
      "execution_count": 4,
      "outputs": [
        {
          "output_type": "stream",
          "name": "stdout",
          "text": [
            "is\n",
            "is\n"
          ]
        }
      ]
    },
    {
      "cell_type": "code",
      "source": [
        ""
      ],
      "metadata": {
        "id": "cAuAWkI3_WOd"
      },
      "execution_count": null,
      "outputs": []
    }
  ]
}