{
  "nbformat": 4,
  "nbformat_minor": 0,
  "metadata": {
    "colab": {
      "name": "9thprogram.ipynb",
      "provenance": [],
      "mount_file_id": "1ffvf9do38RuOnRHjYQfTQtodHTgxgBEz",
      "authorship_tag": "ABX9TyOMs9U/ddSJqggXP31zFVpN",
      "include_colab_link": true
    },
    "kernelspec": {
      "name": "python3",
      "display_name": "Python 3"
    },
    "language_info": {
      "name": "python"
    }
  },
  "cells": [
    {
      "cell_type": "markdown",
      "metadata": {
        "id": "view-in-github",
        "colab_type": "text"
      },
      "source": [
        "<a href=\"https://colab.research.google.com/github/sojuvarghese22/Python-for-Everybody/blob/main/9thprogram.ipynb\" target=\"_parent\"><img src=\"https://colab.research.google.com/assets/colab-badge.svg\" alt=\"Open In Colab\"/></a>"
      ]
    },
    {
      "cell_type": "code",
      "execution_count": 2,
      "metadata": {
        "colab": {
          "base_uri": "https://localhost:8080/"
        },
        "id": "caS5D2tPEVyH",
        "outputId": "1bc4bddb-34df-49ff-fe75-14dd16975d36"
      },
      "outputs": [
        {
          "output_type": "stream",
          "name": "stdout",
          "text": [
            "{'my': 2, 'name': 1, 'is': 2, 'soju': 1, 'hhhjhhjh': 1, 'h': 1, 'am': 1, 'nagpur': 1}\n"
          ]
        }
      ],
      "source": [
        "fhand = open('/content/drive/MyDrive/study pupose/prac.txt')\n",
        "di = dict()\n",
        "for line in fhand:\n",
        "  line = line.rstrip()\n",
        "  new = line.split()\n",
        "  for word in new:\n",
        "    di[word] = di.get(word,0)+1\n",
        "print(di)"
      ]
    }
  ]
}