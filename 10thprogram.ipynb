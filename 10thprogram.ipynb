{
  "nbformat": 4,
  "nbformat_minor": 0,
  "metadata": {
    "colab": {
      "name": "10thprogram.ipynb",
      "provenance": [],
      "mount_file_id": "1BVTox0Hlpttr5DLzUrrbUnfFTsj958fp",
      "authorship_tag": "ABX9TyNkn8+sJZFln/mRnr5IX+wU",
      "include_colab_link": true
    },
    "kernelspec": {
      "name": "python3",
      "display_name": "Python 3"
    },
    "language_info": {
      "name": "python"
    }
  },
  "cells": [
    {
      "cell_type": "markdown",
      "metadata": {
        "id": "view-in-github",
        "colab_type": "text"
      },
      "source": [
        "<a href=\"https://colab.research.google.com/github/sojuvarghese22/Python-for-Everybody/blob/main/10thprogram.ipynb\" target=\"_parent\"><img src=\"https://colab.research.google.com/assets/colab-badge.svg\" alt=\"Open In Colab\"/></a>"
      ]
    },
    {
      "cell_type": "code",
      "execution_count": 1,
      "metadata": {
        "id": "JJzgSsn7FHDV",
        "colab": {
          "base_uri": "https://localhost:8080/"
        },
        "outputId": "6b026205-d7e0-4cef-f698-6ab1248032d3"
      },
      "outputs": [
        {
          "output_type": "stream",
          "name": "stdout",
          "text": [
            "dict_keys(['my', 'name', 'is', 'soju', 'hhhjhhjh', 'h', 'am', 'nagpur'])\n",
            "dict_values([2, 1, 2, 1, 1, 1, 1, 1])\n",
            "dict_items([('my', 2), ('name', 1), ('is', 2), ('soju', 1), ('hhhjhhjh', 1), ('h', 1), ('am', 1), ('nagpur', 1)])\n"
          ]
        }
      ],
      "source": [
        "fhand = open('/content/drive/MyDrive/study pupose/prac.txt')\n",
        "di = dict()\n",
        "for line in fhand:\n",
        "  line = line.rstrip()\n",
        "  new = line.split()\n",
        "  for word in new:\n",
        "    di[word] = di.get(word,0)+1\n",
        "print(di.keys())\n",
        "print(di.values())\n",
        "print(di.items())\n",
        "\n"
      ]
    }
  ]
}