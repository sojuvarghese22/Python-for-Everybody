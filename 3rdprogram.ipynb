{
  "nbformat": 4,
  "nbformat_minor": 0,
  "metadata": {
    "colab": {
      "name": "3rdprogram.ipynb",
      "provenance": [],
      "mount_file_id": "1zz8r1hOP-OI_AXFIr08aNdHr00ojxPfg",
      "authorship_tag": "ABX9TyO7l1PWtryuyZ3/wi8anRY7",
      "include_colab_link": true
    },
    "kernelspec": {
      "name": "python3",
      "display_name": "Python 3"
    },
    "language_info": {
      "name": "python"
    }
  },
  "cells": [
    {
      "cell_type": "markdown",
      "metadata": {
        "id": "view-in-github",
        "colab_type": "text"
      },
      "source": [
        "<a href=\"https://colab.research.google.com/github/sojuvarghese22/Python-for-Everybody/blob/main/3rdprogram.ipynb\" target=\"_parent\"><img src=\"https://colab.research.google.com/assets/colab-badge.svg\" alt=\"Open In Colab\"/></a>"
      ]
    },
    {
      "cell_type": "code",
      "execution_count": 2,
      "metadata": {
        "colab": {
          "base_uri": "https://localhost:8080/"
        },
        "id": "jTjq2ftd6Nv1",
        "outputId": "e0237958-6a85-4996-ac48-9ef7f35ef4ae"
      },
      "outputs": [
        {
          "output_type": "stream",
          "name": "stdout",
          "text": [
            "length of the string :  1583\n"
          ]
        }
      ],
      "source": [
        "fhand = open('/content/drive/MyDrive/study pupose/ne.txt')\n",
        "data = fhand.read()\n",
        "\n",
        "print(\"length of the string : \",len(data))"
      ]
    }
  ]
}